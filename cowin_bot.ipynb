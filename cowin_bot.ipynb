{
 "cells": [
  {
   "cell_type": "code",
   "execution_count": null,
   "metadata": {},
   "outputs": [],
   "source": [
    "class CowinBot:\n",
    "    def __init__(self):\n",
    "        from selenium import webdriver\n",
    "        from selenium.webdriver.common.keys import Keys\n",
    "        import time\n",
    "        from selenium.webdriver.support.ui import WebDriverWait \n",
    "        import requests\n",
    "        from bs4 import BeautifulSoup\n",
    "        from selenium.webdriver.common.action_chains import ActionChains\n",
    "        from PIL import Image\n",
    "        from io import BytesIO\n",
    "        ph_number = int(input(\"Enter Mobile Number:\"))\n",
    "        self.driver = webdriver.Firefox(executable_path=r'yourpath\\geckodriver.exe')\n",
    "        driver = self.driver\n",
    "        driver.get(\"https://selfregistration.cowin.gov.in/\")\n",
    "        time.sleep(2)\n",
    "        number_ele = driver.find_element_by_xpath(\"//*[@id='mat-input-0']\")\n",
    "        number_ele.clear()\n",
    "        number_ele.send_keys(ph_number)\n",
    "        get_otp = driver.find_element_by_xpath(\"//*[@id='main-content']/app-login/ion-content/div/ion-grid/ion-row/ion-col/ion-grid/ion-row/ion-col[1]/ion-grid/form/ion-row/ion-col[2]/div/ion-button\")\n",
    "        get_otp.click()\n",
    "        otp = int(input(\"Enter OTP\"))\n",
    "        otp_ele = driver.find_element_by_xpath(\"//*[@id='mat-input-1']\")\n",
    "        otp_ele.clear()\n",
    "        otp_ele.send_keys(otp)\n",
    "        otp_verify = driver.find_element_by_xpath(\"/html/body/app-root/ion-app/ion-router-outlet/app-login/ion-content/div/ion-grid/ion-row/ion-col/ion-grid/ion-row/ion-col/ion-grid/form/ion-row/ion-col[3]/div/ion-button\")\n",
    "        otp_verify.click()\n",
    "    def closeBrowser(self):\n",
    "        self.driver.close()"
   ]
  },
  {
   "cell_type": "code",
   "execution_count": null,
   "metadata": {},
   "outputs": [],
   "source": [
    "bot1 = CowinBot()\n",
    "bot1.closeBrowser()"
   ]
  },
  {
   "cell_type": "code",
   "execution_count": null,
   "metadata": {},
   "outputs": [],
   "source": []
  }
 ],
 "metadata": {
  "kernelspec": {
   "display_name": "Python 3",
   "language": "python",
   "name": "python3"
  },
  "language_info": {
   "codemirror_mode": {
    "name": "ipython",
    "version": 3
   },
   "file_extension": ".py",
   "mimetype": "text/x-python",
   "name": "python",
   "nbconvert_exporter": "python",
   "pygments_lexer": "ipython3",
   "version": "3.8.5"
  }
 },
 "nbformat": 4,
 "nbformat_minor": 4
}
